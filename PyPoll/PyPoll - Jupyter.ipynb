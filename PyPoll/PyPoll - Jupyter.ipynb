{
 "cells": [
  {
   "cell_type": "code",
   "execution_count": 6,
   "metadata": {},
   "outputs": [
    {
     "name": "stdout",
     "output_type": "stream",
     "text": [
      "0\n",
      "0\n",
      "0\n",
      "0\n"
     ]
    }
   ],
   "source": [
    "import csv, os\n",
    "\n",
    "#hard path to file I'll reference\n",
    "VotingDataRaw = 'C:/Users/leala/Documents/Data Git Repo/python-challenge/Python_Challenge/Resources/election_data.csv'\n",
    "\n",
    "#create a list of Candidates\n",
    "Candidates = [\"Correy\", \"Khan\", \"Li\", \"O'Tooley\"]\n",
    "\n",
    "#and then variables to store the vote count for each Candidate\n",
    "Can1 = 0\n",
    "Can2 = 0\n",
    "Can3 = 0\n",
    "Can4 = 0\n",
    "\n",
    "#get to reading this document aka Alex. Alex? Because why not\n",
    "with open(VotingDataRaw, \"r\") as Alex:\n",
    "    voteData = csv.reader(Alex)\n",
    "    next(voteData)\n",
    "    \n",
    "#loop throught and find total number of votes cast\n",
    "    Voters = 0\n",
    "    for row in voteData:\n",
    "        Voters = Voters + 1\n",
    "\n",
    "#Loop through and grab vote count for each Candidate\n",
    "    for lines in voteData:\n",
    "        if line[3] == Candidates[0]:\n",
    "            Can1 = Can1 + 1\n",
    "        elif line[3] == Candidates[1]:\n",
    "            Can2 = Can2 + 1\n",
    "        elif line[3] == Candidates[2]:\n",
    "            Can3 = Can3 +1\n",
    "        else:\n",
    "            Can4 = Can4 +1\n",
    "    \n",
    "    print(Can1)\n",
    "    print(Can2)\n",
    "    print(Can3)\n",
    "    print(Can4)"
   ]
  },
  {
   "cell_type": "code",
   "execution_count": 15,
   "metadata": {},
   "outputs": [
    {
     "name": "stdout",
     "output_type": "stream",
     "text": [
      "Election Results\n",
      "--------------------------\n",
      "Total Votes Cast:  3521001\n",
      "--------------------------\n",
      "Candidate Totals:\n",
      "Correy : \n",
      "Khan : \n",
      "Li : \n",
      "O'Tooley : \n",
      "--------------------------\n",
      "Winner with   of the vote, \n",
      "--------------------------\n"
     ]
    }
   ],
   "source": [
    "print(\"Election Results\")\n",
    "print(\"--------------------------\")\n",
    "print(\"Total Votes Cast: \", Voters)\n",
    "print(\"--------------------------\")\n",
    "print(\"Candidate Totals:\")\n",
    "print(Candidates[0], \": \")\n",
    "print(Candidates[1], \": \")\n",
    "print(Candidates[2], \": \")\n",
    "print(Candidates[3], \": \")\n",
    "print(\"--------------------------\")\n",
    "print(\"Winner with \", \" of the vote, \")\n",
    "print(\"--------------------------\")"
   ]
  },
  {
   "cell_type": "code",
   "execution_count": null,
   "metadata": {},
   "outputs": [],
   "source": []
  }
 ],
 "metadata": {
  "kernelspec": {
   "display_name": "Python 3",
   "language": "python",
   "name": "python3"
  },
  "language_info": {
   "codemirror_mode": {
    "name": "ipython",
    "version": 3
   },
   "file_extension": ".py",
   "mimetype": "text/x-python",
   "name": "python",
   "nbconvert_exporter": "python",
   "pygments_lexer": "ipython3",
   "version": "3.6.4"
  }
 },
 "nbformat": 4,
 "nbformat_minor": 2
}
