{
 "cells": [
  {
   "cell_type": "code",
   "execution_count": 2,
   "metadata": {},
   "outputs": [],
   "source": [
    "import csv, os\n",
    "\n",
    "#hard path to file I'll need\n",
    "VotingDataRaw = 'C:/Users/leala/Documents/Data Git Repo/python-challenge/Python_Challenge/Resources/election_data.csv'\n",
    "\n",
    "#create a list of Candidates\n",
    "Candidates = [\"Correy\", \"Khan\", \"Li\", \"O'Tooley\"]"
   ]
  },
  {
   "cell_type": "code",
   "execution_count": 12,
   "metadata": {},
   "outputs": [],
   "source": [
    "#get to reading this document aka Alex. Alex? Because why not\n",
    "with open(VotingDataRaw, \"r\") as Alex:\n",
    "    voteData = csv.reader(Alex)\n",
    "    \n",
    "#loop throught and find total number of votes cast\n",
    "    Voters = 0\n",
    "    for row in voteData:\n",
    "        Voters = Voters + 1\n",
    "    Voters = Voters - 1 #-1 to remove header from count\n",
    "\n",
    "    #        Correy = Correy +1\n",
    "    #    elif Candidates[1]\n",
    "    #        Candidates[1] = Candidates[1] +1\n",
    "    #    elif Candidates[2]\n",
    "    #        Candidates[2] = Candidates[2] +1\n",
    "    #    else Candidates[3]\n",
    "    #        Candidates[3] = Candidates[3] +1\n"
   ]
  },
  {
   "cell_type": "code",
   "execution_count": 13,
   "metadata": {},
   "outputs": [],
   "source": [
    "candCor = 0\n",
    "\n",
    "with open(VotingDataRaw, \"r\") as Alex:\n",
    "    voteData = csv.reader(Alex)\n",
    "\n",
    "    for row in voteData:\n",
    "        if row == \"Correy\":\n",
    "            candCor += 1\n",
    "            print(candCor)\n"
   ]
  },
  {
   "cell_type": "code",
   "execution_count": 15,
   "metadata": {},
   "outputs": [
    {
     "name": "stdout",
     "output_type": "stream",
     "text": [
      "Election Results\n",
      "--------------------------\n",
      "Total Votes Cast:  3521001\n",
      "--------------------------\n",
      "Correy : \n",
      "Khan : \n",
      "Li : \n",
      "O'Tooley : \n",
      "--------------------------\n",
      "--------------------------\n",
      "--------------------------\n"
     ]
    }
   ],
   "source": [
    "print(\"Election Results\")\n",
    "print(\"--------------------------\")\n",
    "print(\"Total Votes Cast: \", Voters)\n",
    "print(\"--------------------------\")\n",
    "print(Candidates[0], \": \")\n",
    "print(Candidates[1], \": \")\n",
    "print(Candidates[2], \": \")\n",
    "print(Candidates[3], \": \")\n",
    "print(\"--------------------------\")\n",
    "print(\"--------------------------\")\n",
    "print(\"--------------------------\")"
   ]
  },
  {
   "cell_type": "code",
   "execution_count": null,
   "metadata": {},
   "outputs": [],
   "source": []
  }
 ],
 "metadata": {
  "kernelspec": {
   "display_name": "Python 3",
   "language": "python",
   "name": "python3"
  }
 },
 "nbformat": 4,
 "nbformat_minor": 2
}
