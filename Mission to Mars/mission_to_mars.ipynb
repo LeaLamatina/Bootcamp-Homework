{
 "cells": [
  {
   "cell_type": "markdown",
   "metadata": {},
   "source": [
    "### Establishing dependencies"
   ]
  },
  {
   "cell_type": "code",
   "execution_count": 19,
   "metadata": {},
   "outputs": [],
   "source": [
    "from splinter import Browser\n",
    "from bs4 import BeautifulSoup as bs\n",
    "from selenium import webdriver\n",
    "import pandas as pd\n",
    "import time\n",
    "\n",
    "#put this here since I'll use it more than once\n",
    "executable_path = {'executable_path': 'chromedriver.exe'}\n",
    "browser = Browser('chrome', **executable_path, headless=False)"
   ]
  },
  {
   "cell_type": "code",
   "execution_count": 20,
   "metadata": {},
   "outputs": [],
   "source": [
    "#assigning variables to websites I'll use later\n",
    "nasa_web = \"https://mars.nasa.gov/news/?page=0&per_page=40&order=publish_date+desc%2Ccreated_at+desc&search=&category=19%2C165%2C184%2C204&blank_scope=Latest\"\n",
    "jpl_web = \"https://www.jpl.nasa.gov/spaceimages/?search=&category=Mars\"\n",
    "nasa_twitter = \"https://twitter.com/marswxreport?lang=en\"\n",
    "facts_web = \"https://space-facts.com/mars/\"\n",
    "usgu_web = \"https://astrogeology.usgs.gov/search/results?q=hemisphere+enhanced&k1=target&v1=Mars\""
   ]
  },
  {
   "cell_type": "markdown",
   "metadata": {},
   "source": [
    "### NASA Mars News\n",
    "- save title and paragraph as text"
   ]
  },
  {
   "cell_type": "code",
   "execution_count": 3,
   "metadata": {},
   "outputs": [],
   "source": [
    "browser.visit(nasa_web)\n",
    "\n",
    "# title of first article\n",
    "nasa_title = (bs(browser.html, 'html.parser').find('div', class_=\"content_title\")).text.strip()\n",
    "\n",
    "# first paragraph of first article\n",
    "nasa_para = (bs(browser.html, 'html.parser').find('div', class_=\"article_teaser_body\")).text.strip()\n",
    "\n",
    "# para_button = browser.find_by_name(\"content_title\").click()\n",
    "# nasa_para = para_button.find('div', class_=\"wysiwg_content\")"
   ]
  },
  {
   "cell_type": "code",
   "execution_count": 4,
   "metadata": {},
   "outputs": [
    {
     "name": "stdout",
     "output_type": "stream",
     "text": [
      "MarCO Makes Space for Small Explorers --- A pair of NASA CubeSats flying to Mars are opening a new frontier for small spacecraft.\n"
     ]
    }
   ],
   "source": [
    "print(nasa_title, \"---\", nasa_para)"
   ]
  },
  {
   "cell_type": "markdown",
   "metadata": {},
   "source": [
    "### JPL Mars Space Images - Featured Image\n",
    "- grab src text from full sized image"
   ]
  },
  {
   "cell_type": "code",
   "execution_count": 5,
   "metadata": {},
   "outputs": [],
   "source": [
    "browser.visit(jpl_web)\n",
    "browser.find_by_id(\"full_image\").click()\n",
    "\n",
    "# the browser tried to click too quickly so I had to add a sleep function\n",
    "time.sleep(5)\n",
    "browser.click_link_by_partial_text('more info')\n",
    "\n",
    "jpl_end = (bs(browser.html, 'html.parser').find('img', class_='main_image')['src'])\n",
    "\n",
    "full_jpl = (jpl_web + jpl_end)"
   ]
  },
  {
   "cell_type": "code",
   "execution_count": 6,
   "metadata": {},
   "outputs": [
    {
     "name": "stdout",
     "output_type": "stream",
     "text": [
      "https://www.jpl.nasa.gov/spaceimages/?search=&category=Mars/spaceimages/images/largesize/PIA14924_hires.jpg\n"
     ]
    }
   ],
   "source": [
    "print(full_jpl)"
   ]
  },
  {
   "cell_type": "markdown",
   "metadata": {},
   "source": [
    "### Mars Weather Twitter\n",
    "- scrape content of most recent tweet"
   ]
  },
  {
   "cell_type": "code",
   "execution_count": 7,
   "metadata": {},
   "outputs": [],
   "source": [
    "browser.visit(nasa_twitter)\n",
    "\n",
    "tweet = (bs(browser.html, 'html.parser').find('div', class_=\"js-tweet-text-container\")).text.strip()"
   ]
  },
  {
   "cell_type": "code",
   "execution_count": 8,
   "metadata": {},
   "outputs": [
    {
     "name": "stdout",
     "output_type": "stream",
     "text": [
      "Sol 2171 (2018-09-14), high -12C/10F, low -65C/-84F, pressure at 8.79 hPa, daylight 05:43-17:59\n"
     ]
    }
   ],
   "source": [
    "print(tweet)"
   ]
  },
  {
   "cell_type": "markdown",
   "metadata": {},
   "source": [
    "### Mars Facts Website DataFrame Scrape\n",
    "- Use Pandas to convert the data to a HTML table string"
   ]
  },
  {
   "cell_type": "code",
   "execution_count": 9,
   "metadata": {},
   "outputs": [],
   "source": [
    "mars_facts = pd.DataFrame(pd.read_html(facts_web)[0])\n",
    "\n",
    "facts_html = mars_facts.to_html()"
   ]
  },
  {
   "cell_type": "code",
   "execution_count": 10,
   "metadata": {},
   "outputs": [
    {
     "data": {
      "text/plain": [
       "'<table border=\"1\" class=\"dataframe\">\\n  <thead>\\n    <tr style=\"text-align: right;\">\\n      <th></th>\\n      <th>0</th>\\n      <th>1</th>\\n    </tr>\\n  </thead>\\n  <tbody>\\n    <tr>\\n      <th>0</th>\\n      <td>Equatorial Diameter:</td>\\n      <td>6,792 km</td>\\n    </tr>\\n    <tr>\\n      <th>1</th>\\n      <td>Polar Diameter:</td>\\n      <td>6,752 km</td>\\n    </tr>\\n    <tr>\\n      <th>2</th>\\n      <td>Mass:</td>\\n      <td>6.42 x 10^23 kg (10.7% Earth)</td>\\n    </tr>\\n    <tr>\\n      <th>3</th>\\n      <td>Moons:</td>\\n      <td>2 (Phobos &amp; Deimos)</td>\\n    </tr>\\n    <tr>\\n      <th>4</th>\\n      <td>Orbit Distance:</td>\\n      <td>227,943,824 km (1.52 AU)</td>\\n    </tr>\\n    <tr>\\n      <th>5</th>\\n      <td>Orbit Period:</td>\\n      <td>687 days (1.9 years)</td>\\n    </tr>\\n    <tr>\\n      <th>6</th>\\n      <td>Surface Temperature:</td>\\n      <td>-153 to 20 °C</td>\\n    </tr>\\n    <tr>\\n      <th>7</th>\\n      <td>First Record:</td>\\n      <td>2nd millennium BC</td>\\n    </tr>\\n    <tr>\\n      <th>8</th>\\n      <td>Recorded By:</td>\\n      <td>Egyptian astronomers</td>\\n    </tr>\\n  </tbody>\\n</table>'"
      ]
     },
     "execution_count": 10,
     "metadata": {},
     "output_type": "execute_result"
    }
   ],
   "source": [
    "facts_html"
   ]
  },
  {
   "cell_type": "markdown",
   "metadata": {},
   "source": [
    "### Mars Hemispheres Images\n",
    "- obtain high resolution images for each of Mars' hemispheres\n",
    "- Save image src text for full resolution hemisphere image, as well as the Hemisphere title containing the hemisphere name"
   ]
  },
  {
   "cell_type": "code",
   "execution_count": 23,
   "metadata": {},
   "outputs": [],
   "source": [
    "# empty list for the string\n",
    "hemisphere_img = []\n",
    "\n",
    "# open the page\n",
    "browser.visit(usgu_web)\n",
    "links = browser.find_by_css(\"a.product-item h3\")\n",
    "\n",
    "# loop through, grab the title and url and store it in a dictionary\n",
    "for link in range(len(links)):\n",
    "    images= {}\n",
    "    browser.find_by_css(\"a.product-item h3\")[link].click()\n",
    "    time.sleep(5)\n",
    "    image_url = browser.find_link_by_text('Sample')\n",
    "    images['img_url'] = image_url['href']\n",
    "    browser.find_by_css('h2.title').text\n",
    "    image_title = browser.find_by_css('h2.title').text\n",
    "    images['title'] = image_title\n",
    "    hemisphere_img.append({\"title\": image_title, \"image_url\": image_url})\n",
    "    browser.back()"
   ]
  },
  {
   "cell_type": "code",
   "execution_count": 24,
   "metadata": {},
   "outputs": [
    {
     "name": "stdout",
     "output_type": "stream",
     "text": [
      "[{'title': 'Cerberus Hemisphere Enhanced', 'image_url': [<splinter.driver.webdriver.WebDriverElement object at 0x0000021FBB31E4E0>]}, {'title': 'Schiaparelli Hemisphere Enhanced', 'image_url': [<splinter.driver.webdriver.WebDriverElement object at 0x0000021FBB31E5F8>]}, {'title': 'Syrtis Major Hemisphere Enhanced', 'image_url': [<splinter.driver.webdriver.WebDriverElement object at 0x0000021FBB35B2E8>]}, {'title': 'Valles Marineris Hemisphere Enhanced', 'image_url': [<splinter.driver.webdriver.WebDriverElement object at 0x0000021FBB34E400>]}]\n"
     ]
    }
   ],
   "source": [
    "print(hemisphere_img)"
   ]
  }
 ],
 "metadata": {
  "kernelspec": {
   "display_name": "Python 3",
   "language": "python",
   "name": "python3"
  },
  "language_info": {
   "codemirror_mode": {
    "name": "ipython",
    "version": 3
   },
   "file_extension": ".py",
   "mimetype": "text/x-python",
   "name": "python",
   "nbconvert_exporter": "python",
   "pygments_lexer": "ipython3",
   "version": "3.6.6"
  }
 },
 "nbformat": 4,
 "nbformat_minor": 2
}
