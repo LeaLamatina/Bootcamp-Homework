{
 "cells": [
  {
   "cell_type": "code",
   "execution_count": 2,
   "metadata": {},
   "outputs": [],
   "source": [
    "import os, csv\n",
    "\n",
    "#creating direct path for the csv file with information\n",
    "BudgetDataRaw = 'C:/Users/leala/Documents/Data Git Repo/python-challenge/Python_Challenge/Resources/budget_data.csv'\n",
    "\n",
    "#open csv fill to read in, and name it Alex because he asked for it\n",
    "with open(BudgetDataRaw, \"r\") as Alex:\n",
    "    budData = csv.reader(Alex)\n",
    "    next(budData)\n",
    "\n",
    "#Variables for total Months and Profit/Loss\n",
    "    Months = 0\n",
    "    PLTot = 0\n",
    "\n",
    "#for loop through to capture the totals of each\n",
    "    for line in budData:\n",
    "        Months = Months + 1\n",
    "        PLTot = PLTot + int(line[1])"
   ]
  },
  {
   "cell_type": "code",
   "execution_count": 3,
   "metadata": {},
   "outputs": [],
   "source": [
    "with open(BudgetDataRaw, \"r\") as Alex:\n",
    "    budData = csv.reader(Alex)\n",
    "    next(budData)\n",
    "\n",
    "#create variables to store all the necessary information\n",
    "    totalDiff = 0\n",
    "    previousMonth = 0\n",
    "    firstLoop = True\n",
    "    currentDiff = 0\n",
    "    maxDiff = 0\n",
    "    maxDate = 0\n",
    "    minDiff = 0\n",
    "    minDate = 0\n",
    "    \n",
    "    for line in budData:\n",
    "        if firstLoop == False:\n",
    "            currentDiff = previousMonth - int(line[1])\n",
    "            totalDiff = totalDiff + currentDiff\n",
    "        previousMonth = int(line[1])\n",
    "        if currentDiff > maxDiff:\n",
    "            maxDiff = currentDiff\n",
    "            maxDate = line[0]\n",
    "        if currentDiff < minDiff:\n",
    "            minDiff = currentDiff\n",
    "            minDate = line[0]\n",
    "        firstLoop = False\n",
    "    \n",
    "    #total months - 1 because you need two months to average    \n",
    "    averageDiff = totalDiff / (Months - 1)\n"
   ]
  },
  {
   "cell_type": "code",
   "execution_count": 4,
   "metadata": {},
   "outputs": [
    {
     "name": "stdout",
     "output_type": "stream",
     "text": [
      "Budget Snapshot\n",
      "--------------------------\n",
      "Total Number of Months:  41\n",
      "Net Profit/Loss over 41 Months:  18971412\n",
      "--------------------------\n",
      "Average Change:  6758.975\n",
      "Greatest Increase:  Aug-14  >  1779747\n",
      "Greatest Decrease:  Feb-16  >  -1837235\n",
      "--------------------------\n"
     ]
    }
   ],
   "source": [
    "print(\"Budget Snapshot\")\n",
    "print(\"--------------------------\")\n",
    "print(\"Total Number of Months: \", Months)\n",
    "print(\"Net Profit/Loss over\", Months, \"Months: \", PLTot)\n",
    "print(\"--------------------------\")\n",
    "print(\"Average Change: \", averageDiff)\n",
    "print(\"Greatest Increase: \", maxDate, \" > \", maxDiff)\n",
    "print(\"Greatest Decrease: \", minDate, \" > \", minDiff)\n",
    "print(\"--------------------------\")"
   ]
  }
 ],
 "metadata": {
  "kernelspec": {
   "display_name": "Python 3",
   "language": "python",
   "name": "python3"
  }
 },
 "nbformat": 4,
 "nbformat_minor": 2
}
