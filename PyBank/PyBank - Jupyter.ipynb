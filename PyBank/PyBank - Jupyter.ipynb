{
 "cells": [
  {
   "cell_type": "code",
   "execution_count": 31,
   "metadata": {},
   "outputs": [],
   "source": [
    "import os, csv\n",
    "\n",
    "#creating direct path for the csv file with information\n",
    "BudgetDataRaw = 'C:/Users/leala/Documents/Data Git Repo/python-challenge/Python_Challenge/Resources/budget_data.csv'\n"
   ]
  },
  {
   "cell_type": "code",
   "execution_count": 44,
   "metadata": {},
   "outputs": [
    {
     "name": "stdout",
     "output_type": "stream",
     "text": [
      "42\n"
     ]
    }
   ],
   "source": [
    "#open csv fill to read in, and name it Alex because he asked for it\n",
    "with open(BudgetDataRaw, \"r\") as Alex:\n",
    "    budData = csv.reader(Alex)\n",
    "\n",
    "#each cell counts as a month, so count the number of cells\n",
    "    Months = 0\n",
    "    for row in budData:\n",
    "        Months = Months + 1\n",
    "        Months - 1 #-1 to remove header from count\n",
    "    print(Months)\n",
    "    \n",
    "    PLTot = 0\n",
    "    for lines in budData:\n",
    "        #int(lines[1]).sum = PLTot\n",
    "        print(lines[1])\n",
    "\n",
    "#creating variable for the min and max dates from data set\n",
    "#budgetData[\"Date\"] = budgetData[\"Date\"].apply(dateutil.parser.parse, dayfirst=)\n",
    "\n",
    "#maxDate = max(budgetData[\"Date\"])\n",
    "#minDate = min(budgetData[\"Date\"])\n",
    "\n",
    "#maxDate = dt.date(budgetData[\"Date\"]).max\n",
    "\n",
    "#print(maxDate)\n",
    "#print(minDate)"
   ]
  },
  {
   "cell_type": "code",
   "execution_count": 51,
   "metadata": {},
   "outputs": [
    {
     "ename": "TypeError",
     "evalue": "'float' object is not iterable",
     "output_type": "error",
     "traceback": [
      "\u001b[1;31m---------------------------------------------------------------------------\u001b[0m",
      "\u001b[1;31mTypeError\u001b[0m                                 Traceback (most recent call last)",
      "\u001b[1;32m<ipython-input-51-8e5ccdeace57>\u001b[0m in \u001b[0;36m<module>\u001b[1;34m()\u001b[0m\n\u001b[0;32m      5\u001b[0m     \u001b[0mPLTot\u001b[0m \u001b[1;33m=\u001b[0m \u001b[1;36m0\u001b[0m\u001b[1;33m\u001b[0m\u001b[0m\n\u001b[0;32m      6\u001b[0m     \u001b[1;32mfor\u001b[0m \u001b[0mlines\u001b[0m \u001b[1;32min\u001b[0m \u001b[0mbudData\u001b[0m\u001b[1;33m:\u001b[0m\u001b[1;33m\u001b[0m\u001b[0m\n\u001b[1;32m----> 7\u001b[1;33m         \u001b[0mPLTot\u001b[0m \u001b[1;33m=\u001b[0m \u001b[0msum\u001b[0m\u001b[1;33m(\u001b[0m\u001b[0mfloat\u001b[0m\u001b[1;33m(\u001b[0m\u001b[0mlines\u001b[0m\u001b[1;33m[\u001b[0m\u001b[1;36m1\u001b[0m\u001b[1;33m]\u001b[0m\u001b[1;33m)\u001b[0m\u001b[1;33m)\u001b[0m\u001b[1;33m\u001b[0m\u001b[0m\n\u001b[0m\u001b[0;32m      8\u001b[0m     \u001b[0mprint\u001b[0m\u001b[1;33m(\u001b[0m\u001b[0mPLTot\u001b[0m\u001b[1;33m)\u001b[0m\u001b[1;33m\u001b[0m\u001b[0m\n",
      "\u001b[1;31mTypeError\u001b[0m: 'float' object is not iterable"
     ]
    }
   ],
   "source": [
    "with open(BudgetDataRaw, \"r\") as Alex:\n",
    "    budData = csv.reader(Alex)\n",
    "    next(budData)\n",
    "    \n",
    "    PLTot = 0\n",
    "    for lines in budData:\n",
    "        PLTot = sum(lines[1])\n",
    "    print(PLTot)"
   ]
  },
  {
   "cell_type": "code",
   "execution_count": null,
   "metadata": {},
   "outputs": [],
   "source": [
    "#Create an index for the Revenue Column\n",
    "Revenue = Resources."
   ]
  },
  {
   "cell_type": "code",
   "execution_count": 37,
   "metadata": {},
   "outputs": [
    {
     "name": "stdout",
     "output_type": "stream",
     "text": [
      "Budget Snapshot\n",
      "--------------------------\n",
      "Total Number of Months:  42\n",
      "Net Profit/Loss over 42 Months: \n",
      "--------------------------\n",
      "\n",
      "\n",
      "--------------------------\n",
      "--------------------------\n",
      "--------------------------\n"
     ]
    }
   ],
   "source": [
    "print(\"Budget Snapshot\")\n",
    "print(\"--------------------------\")\n",
    "print(\"Total Number of Months: \", Months)\n",
    "print(\"Net Profit/Loss over\", Months, \"Months: \")\n",
    "print(\"--------------------------\")\n",
    "print()\n",
    "print()\n",
    "print(\"--------------------------\")\n",
    "print(\"--------------------------\")\n",
    "print(\"--------------------------\")"
   ]
  },
  {
   "cell_type": "code",
   "execution_count": null,
   "metadata": {},
   "outputs": [],
   "source": []
  }
 ],
 "metadata": {
  "kernelspec": {
   "display_name": "Python 3",
   "language": "python",
   "name": "python3"
  },
  "language_info": {
   "codemirror_mode": {
    "name": "ipython",
    "version": 3
   },
   "file_extension": ".py",
   "mimetype": "text/x-python",
   "name": "python",
   "nbconvert_exporter": "python",
   "pygments_lexer": "ipython3",
   "version": "3.6.4"
  }
 },
 "nbformat": 4,
 "nbformat_minor": 2
}
