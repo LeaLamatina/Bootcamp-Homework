{
 "cells": [
  {
   "cell_type": "code",
   "execution_count": 7,
   "metadata": {},
   "outputs": [],
   "source": [
    "import os, csv\n",
    "\n",
    "#creating direct path for the csv file with information\n",
    "BudgetDataRaw = 'C:/Users/leala/Documents/Data Git Repo/python-challenge/Python_Challenge/Resources/budget_data.csv'\n",
    "\n",
    "#open csv fill to read in, and name it Alex because he asked for it\n",
    "with open(BudgetDataRaw, \"r\") as Alex:\n",
    "    budData = csv.reader(Alex)\n",
    "    next(budData)\n",
    "\n",
    "#Variables for total Months and Profit/Loss\n",
    "    Months = 0\n",
    "    PLTot = 0\n",
    "\n",
    "#for loop through to capture the totals of each\n",
    "    for line in budData:\n",
    "        Months = Months + 1\n",
    "        PLTot = PLTot + int(line[1])"
   ]
  },
  {
   "cell_type": "code",
   "execution_count": 6,
   "metadata": {},
   "outputs": [
    {
     "name": "stdout",
     "output_type": "stream",
     "text": [
      "270359\n",
      "6758.975\n",
      "0\n",
      "0\n"
     ]
    }
   ],
   "source": [
    "with open(BudgetDataRaw, \"r\") as Alex:\n",
    "    budData = csv.reader(Alex)\n",
    "    next(budData)\n",
    "\n",
    "#create variables to store all the necessary information\n",
    "    totalDiff = 0\n",
    "    previousMonth = 0\n",
    "    firstLoop = True\n",
    "    currentDiff = 0\n",
    "    maxDiff = 0\n",
    "    minDiff = 0    \n",
    "    \n",
    "    for line in budData:\n",
    "        if firstLoop == False:\n",
    "            currentDiff = previousMonth - int(line[1])\n",
    "            totalDiff = totalDiff + currentDiff\n",
    "        previousMonth = int(line[1])\n",
    "        if  - int(line[1]) > :\n",
    "            maxDiff = [line[1], \" - \", previousMonth - int(line[1])]\n",
    "        if previousMonth - int(line[1]) < 0:\n",
    "            minDiff = line[1], \" - \", previousMonth - int(line[1])\n",
    "        firstLoop = False\n",
    "    \n",
    "    #total months - 1 because you need two months to average    \n",
    "    averageDiff = totalDiff / (Months - 1)\n",
    "    print(totalDiff)\n",
    "    print(averageDiff)\n",
    "    print(maxDiff)\n",
    "    print(minDiff)\n",
    "      \n",
    "#total diff\n",
    "#previous months revenue\n"
   ]
  },
  {
   "cell_type": "code",
   "execution_count": 9,
   "metadata": {},
   "outputs": [
    {
     "name": "stdout",
     "output_type": "stream",
     "text": [
      "Budget Snapshot\n",
      "--------------------------\n",
      "Total Number of Months:  41\n",
      "Net Profit/Loss over 41 Months:  18971412\n",
      "--------------------------\n",
      "Average Change:  6758.975\n",
      "\n",
      "--------------------------\n"
     ]
    }
   ],
   "source": [
    "print(\"Budget Snapshot\")\n",
    "print(\"--------------------------\")\n",
    "print(\"Total Number of Months: \", Months)\n",
    "print(\"Net Profit/Loss over\", Months, \"Months: \", PLTot)\n",
    "print(\"--------------------------\")\n",
    "print(\"Average Change: \", averageDiff)\n",
    "print()\n",
    "print(\"--------------------------\")"
   ]
  },
  {
   "cell_type": "code",
   "execution_count": null,
   "metadata": {},
   "outputs": [],
   "source": []
  },
  {
   "cell_type": "code",
   "execution_count": null,
   "metadata": {},
   "outputs": [],
   "source": []
  }
 ],
 "metadata": {
  "kernelspec": {
   "display_name": "Python 3",
   "language": "python",
   "name": "python3"
  },
  "language_info": {
   "codemirror_mode": {
    "name": "ipython",
    "version": 3
   },
   "file_extension": ".py",
   "mimetype": "text/x-python",
   "name": "python",
   "nbconvert_exporter": "python",
   "pygments_lexer": "ipython3",
   "version": "3.6.4"
  }
 },
 "nbformat": 4,
 "nbformat_minor": 2
}
